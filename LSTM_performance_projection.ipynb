{
 "cells": [
  {
   "cell_type": "code",
   "execution_count": 8,
   "id": "c2c604d4-8446-4383-b0d1-ba31a5b89e90",
   "metadata": {},
   "outputs": [],
   "source": [
    "import pandas as pd\n",
    "import numpy as np\n",
    "import geopandas as gpd\n",
    "import joblib\n",
    "import os\n",
    "from sklearn.metrics import f1_score\n",
    "import matplotlib.pyplot as plt"
   ]
  },
  {
   "cell_type": "code",
   "execution_count": 2,
   "id": "b6134d99-aae4-4bd1-957a-b34caa2a0958",
   "metadata": {},
   "outputs": [],
   "source": [
    "PUB_SPRF = joblib.load('PUB_SPRF.pkl')"
   ]
  },
  {
   "cell_type": "code",
   "execution_count": 4,
   "id": "1dedd459-7c2e-455a-8324-d85301dca7c0",
   "metadata": {},
   "outputs": [
    {
     "name": "stderr",
     "output_type": "stream",
     "text": [
      "C:\\Users\\adadkhah\\AppData\\Local\\Temp\\ipykernel_33348\\3557522615.py:19: UserWarning: Column names longer than 10 characters will be truncated when saved to ESRI Shapefile.\n",
      "  shapefile_with_predicted_performance.to_file('CRB_shapefiles_with_PUB_projected_LSTM_performance_with_damindex.shp', driver='ESRI Shapefile')\n"
     ]
    }
   ],
   "source": [
    "# doing more predictions\n",
    "static_atts_3539 = pd.read_csv(os.path.join(os.getcwd(), 'Data', 'crb_nhgf_static_inputs.csv'))\n",
    "static_atts_3539['predicted_performance'] = PUB_SPRF.predict(static_atts_3539.iloc[:,1:]) # prediction\n",
    "prediction_prob_of_each_class = PUB_SPRF.predict_proba(static_atts_3539.iloc[:,1:-1])\n",
    "static_atts_3539['AM_prob'] = prediction_prob_of_each_class[:,0]   # above median prediction prob\n",
    "static_atts_3539['BM_prob'] = prediction_prob_of_each_class[:,1]    # below median prediction prob\n",
    "\n",
    "# adding a column about the probabilty of the predictions\n",
    "static_atts_3539['prob_confidence'] = static_atts_3539.apply(lambda row: 'Likely Above Median' if row['AM_prob'] > 0.65 \n",
    "                          else ('Likely Below Median' if row['BM_prob'] > 0.65 else 'Uncertain'), \n",
    "                          axis=1)"
   ]
  },
  {
   "cell_type": "code",
   "execution_count": null,
   "id": "b060d818-a94b-40fe-9a1f-ebe828c9a5f6",
   "metadata": {
    "jp-MarkdownHeadingCollapsed": true
   },
   "outputs": [],
   "source": [
    "# adding predicted performance class to the shapefile\n",
    "shapefile_with_predicted_performance = pd.merge(gpd.read_file(os.path.join(os.getcwd(), 'Data', 'Basins_shapefile', 'CO_catchments_GF1_1.shp')),\n",
    "         static_atts_3539[['nhgf_id', 'Dam_Index', 'predicted_performance','AM_prob','BM_prob','prob_confidence']],\n",
    "         left_on='seg_id_nhm',\n",
    "         right_on='nhgf_id')\n",
    "\n",
    "shapefile_with_predicted_performance.to_file('CRB_shapefiles_with_PUB_projected_LSTM_performance_with_damindex.shp', driver='ESRI Shapefile')"
   ]
  },
  {
   "cell_type": "markdown",
   "id": "faab1f3c-d4da-4997-a2e3-8be7f85e2623",
   "metadata": {},
   "source": [
    "### upper CRB"
   ]
  },
  {
   "cell_type": "code",
   "execution_count": 12,
   "id": "3c41d5cd-52d2-4e3e-9221-d2f440fbb62d",
   "metadata": {},
   "outputs": [
    {
     "data": {
      "image/png": "[encoded data removed]",
      "text/plain": [
       "<Figure size 200x400 with 1 Axes>"
      ]
     },
     "metadata": {},
     "output_type": "display_data"
    }
   ],
   "source": [
    "#static_atts_3539.plot(kind='bar', x='prob_confidence', y='Values', legend=False)\n",
    "# Count the occurrences of each category\n",
    "Upper_ungaged = shapefile_with_predicted_performance[shapefile_with_predicted_performance['nhgf_id']<44663]\n",
    "Reg_Upper_ungaged = Upper_ungaged[Upper_ungaged['Dam_Index']>0.1]\n",
    "category_counts = Upper_ungaged['prob_confidence'].value_counts()\n",
    "Reg_category_counts = Reg_Upper_ungaged['prob_confidence'].value_counts()\n",
    "\n",
    "# Define colors and order for the bars\n",
    "colors=['#4160ea', '#b3b9d2', '#e31a1c']\n",
    "order = ['Likely Above Median', 'Uncertain', 'Likely Below Median']  # Custom order\n",
    "\n",
    "# Plotting the bar plot\n",
    "category_counts = category_counts.reindex(order)\n",
    "# Plotting the bar plot with no space between the bars and custom figure size\n",
    "fig, ax = plt.subplots(figsize=(2, 4))  # Change figure size here\n",
    "bars = ax.bar(category_counts.index, category_counts.values, color=colors, width=1, edgecolor='none')  # Change bar width here\n",
    "#plt.bar(Reg_category_counts.index, Reg_category_counts.values, color='white', edgecolor='red', hatch='/', width=1, ax=ax)\n",
    "\n",
    "# Adding custom legend\n",
    "#plt.legend(bars.patches, category_counts.index, title='Projected model performance')\n",
    "plt.xlabel('')\n",
    "plt.ylabel('')\n",
    "plt.title('')\n",
    "# Remove x-ticks\n",
    "plt.ylim((0.0, 1000))\n",
    "plt.xticks([])\n",
    "plt.tight_layout()\n",
    "plt.savefig('UpperCRB_PUB_SPRF_gagecounts_updated.png', dpi=300, transparent=True)\n",
    "plt.show()"
   ]
  },
  {
   "cell_type": "code",
   "execution_count": 13,
   "id": "d524f404-9a31-430d-bb8b-279f536f485a",
   "metadata": {
    "scrolled": true
   },
   "outputs": [
    {
     "data": {
      "image/png": "[encoded data removed]",
      "text/plain": [
       "<Figure size 200x400 with 1 Axes>"
      ]
     },
     "metadata": {},
     "output_type": "display_data"
    }
   ],
   "source": [
    "Reg_Upper_ungaged = Upper_ungaged[Upper_ungaged['Dam_Index']>0.05]\n",
    "category_counts = Reg_Upper_ungaged['prob_confidence'].value_counts()\n",
    "\n",
    "# Define colors and order for the bars\n",
    "colors=['royalblue', 'darkorange', 'violet']\n",
    "order = ['Likely Above Median', 'Uncertain','Likely Below Median']  # Custom order\n",
    "\n",
    "# Plotting the bar plot\n",
    "category_counts = category_counts.reindex(order)\n",
    "# Plotting the bar plot with no space between the bars and custom figure size\n",
    "fig, ax = plt.subplots(figsize=(2, 4))  # Change figure size here\n",
    "bars = ax.bar(category_counts.index, category_counts.values, facecolor=\"none\", color='white', edgecolor='Black', hatch='XX', width=1)  # Change bar width here\n",
    "\n",
    "\n",
    "# Adding custom legend\n",
    "#plt.legend(bars.patches, category_counts.index, title='Projected model performance')\n",
    "plt.xlabel('')\n",
    "plt.ylabel('')\n",
    "plt.title('')\n",
    "# Remove x-ticks\n",
    "plt.ylim((0.0, 1000))\n",
    "plt.xticks([])\n",
    "plt.tight_layout()\n",
    "plt.axis('off')\n",
    "plt.savefig('UpperCRB_PUB_SPRF_gagecounts_Reg_updated.png', dpi=300, transparent=True)\n",
    "\n",
    "plt.show()"
   ]
  },
  {
   "cell_type": "markdown",
   "id": "3ab8aa0e-9425-4122-a568-d96de0c8dcce",
   "metadata": {},
   "source": [
    "### Lower CRB"
   ]
  },
  {
   "cell_type": "code",
   "execution_count": null,
   "id": "c9bc8b81-0e9e-431a-ad1c-194659682a15",
   "metadata": {},
   "outputs": [],
   "source": []
  },
  {
   "cell_type": "code",
   "execution_count": 15,
   "id": "2d41df8f-9340-455a-b62b-e0f54577cfb3",
   "metadata": {},
   "outputs": [
    {
     "data": {
      "image/png": "[encoded data removed]",
      "text/plain": [
       "<Figure size 200x400 with 1 Axes>"
      ]
     },
     "metadata": {},
     "output_type": "display_data"
    }
   ],
   "source": [
    "#static_atts_3539.plot(kind='bar', x='prob_confidence', y='Values', legend=False)\n",
    "# Count the occurrences of each category\n",
    "Lower_ungaged = shapefile_with_predicted_performance[shapefile_with_predicted_performance['nhgf_id']>=44663]\n",
    "\n",
    "category_counts = Lower_ungaged['prob_confidence'].value_counts()\n",
    "\n",
    "# Define colors and order for the bars\n",
    "colors=['#4160ea', '#b3b9d2', '#e31a1c']\n",
    "order = ['Likely Above Median', 'Uncertain', 'Likely Below Median']  # Custom order\n",
    "\n",
    "# Plotting the bar plot\n",
    "category_counts = category_counts.reindex(order)\n",
    "# Plotting the bar plot with no space between the bars and custom figure size\n",
    "fig, ax = plt.subplots(figsize=(2, 4))  # Change figure size here\n",
    "bars = ax.bar(category_counts.index, category_counts.values, color=colors, width=1, edgecolor='none')  # Change bar width here\n",
    "#plt.bar(Reg_category_counts.index, Reg_category_counts.values, color='white', edgecolor='red', hatch='/', width=1, ax=ax)\n",
    "\n",
    "# Adding custom legend\n",
    "#plt.legend(bars.patches, category_counts.index, title='Projected model performance')\n",
    "plt.xlabel('')\n",
    "plt.ylabel('')\n",
    "plt.title('')\n",
    "# Remove x-ticks\n",
    "plt.ylim((0.0, 1000))\n",
    "plt.xticks([])\n",
    "plt.tight_layout()\n",
    "plt.savefig('LowerCRB_PUB_SPRF_gagecounts_updated.png', dpi=300, transparent=True)\n",
    "plt.show()"
   ]
  },
  {
   "cell_type": "code",
   "execution_count": 22,
   "id": "5985034e-1932-4f4f-9cca-2bec565a1f46",
   "metadata": {},
   "outputs": [
    {
     "data": {
      "image/png": "[encoded data removed]",
      "text/plain": [
       "<Figure size 200x400 with 1 Axes>"
      ]
     },
     "metadata": {},
     "output_type": "display_data"
    }
   ],
   "source": [
    "Reg_Lower_ungaged = Lower_ungaged[Lower_ungaged['Dam_Index']>0.05]\n",
    "category_counts = Reg_Lower_ungaged['prob_confidence'].value_counts()\n",
    "\n",
    "# Define colors and order for the bars\n",
    "colors=['royalblue', 'darkorange', 'violet']\n",
    "order = ['Likely Above Median', 'Uncertain','Likely Below Median']  # Custom order\n",
    "\n",
    "# Plotting the bar plot\n",
    "category_counts = category_counts.reindex(order)\n",
    "category_counts['Likely Above Median']= 0\n",
    "# Plotting the bar plot with no space between the bars and custom figure size\n",
    "fig, ax = plt.subplots(figsize=(2, 4))  # Change figure size here\n",
    "bars = ax.bar(category_counts.index, category_counts.values, facecolor=\"none\", color='white', edgecolor='Black', hatch='XX', width=1)  # Change bar width here\n",
    "\n",
    "\n",
    "# Adding custom legend\n",
    "#plt.legend(bars.patches, category_counts.index, title='Projected model performance')\n",
    "plt.xlabel('')\n",
    "plt.ylabel('')\n",
    "plt.title('')\n",
    "# Remove x-ticks\n",
    "plt.ylim((0.0, 1000))\n",
    "plt.xticks([])\n",
    "plt.tight_layout()\n",
    "plt.axis('off')\n",
    "plt.savefig('LowerCRB_PUB_SPRF_gagecounts_Reg_updated.png', dpi=300, transparent=True)\n",
    "\n",
    "plt.show()"
   ]
  }
 ],
 "metadata": {
  "kernelspec": {
   "display_name": "Python 3 (ipykernel)",
   "language": "python",
   "name": "python3"
  },
  "language_info": {
   "codemirror_mode": {
    "name": "ipython",
    "version": 3
   },
   "file_extension": ".py",
   "mimetype": "text/x-python",
   "name": "python",
   "nbconvert_exporter": "python",
   "pygments_lexer": "ipython3",
   "version": "3.10.12"
  }
 },
 "nbformat": 4,
 "nbformat_minor": 5
}
